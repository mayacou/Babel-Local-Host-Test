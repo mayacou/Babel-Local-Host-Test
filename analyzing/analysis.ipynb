{
 "cells": [
  {
   "cell_type": "code",
   "execution_count": null,
   "metadata": {
    "vscode": {
     "languageId": "plaintext"
    }
   },
   "outputs": [],
   "source": [
    "import pandas as pd\n",
    "\n",
    "df = pd.read_excel('results.xlsx')  # add `engine='openpyxl'` if needed\n",
    "df.head()\n"
   ]
  },
  {
   "cell_type": "code",
   "execution_count": null,
   "metadata": {
    "vscode": {
     "languageId": "plaintext"
    }
   },
   "outputs": [],
   "source": [
    "import seaborn as sns\n",
    "import matplotlib.pyplot as plt\n",
    "\n",
    "plt.figure(figsize=(10, 6))\n",
    "sns.scatterplot(data=df, x='bleu score', y='comet score', hue='model', style='dataset')\n",
    "plt.title('BLEU vs COMET Scores by Model')\n",
    "plt.xlabel('BLEU Score')\n",
    "plt.ylabel('COMET Score')\n",
    "plt.legend(bbox_to_anchor=(1.05, 1), loc='upper left')\n",
    "plt.tight_layout()\n",
    "plt.show()\n"
   ]
  },
  {
   "cell_type": "code",
   "execution_count": null,
   "metadata": {
    "vscode": {
     "languageId": "plaintext"
    }
   },
   "outputs": [],
   "source": [
    "# Example: Filter for WMT dataset\n",
    "wmt_df = df[df['dataset'] == 'WMT']\n",
    "\n",
    "plt.figure(figsize=(12, 6))\n",
    "sns.barplot(data=wmt_df, x='language', y='bleu score', hue='model')\n",
    "plt.title('BLEU Scores by Language for WMT Dataset')\n",
    "plt.xticks(rotation=45)\n",
    "plt.tight_layout()\n",
    "plt.show()\n"
   ]
  }
 ],
 "metadata": {
  "language_info": {
   "name": "python"
  }
 },
 "nbformat": 4,
 "nbformat_minor": 2
}
